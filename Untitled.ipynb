{
 "cells": [
  {
   "cell_type": "code",
   "execution_count": 1,
   "id": "445d9316",
   "metadata": {},
   "outputs": [
    {
     "ename": "NameError",
     "evalue": "name 'request' is not defined",
     "output_type": "error",
     "traceback": [
      "\u001b[1;31m---------------------------------------------------------------------------\u001b[0m",
      "\u001b[1;31mNameError\u001b[0m                                 Traceback (most recent call last)",
      "\u001b[1;32m~\\AppData\\Local\\Temp/ipykernel_17368/3558503482.py\u001b[0m in \u001b[0;36m<module>\u001b[1;34m\u001b[0m\n\u001b[1;32m----> 1\u001b[1;33m DATA={\"OverallQual\":[request.args['OverallQual']],\n\u001b[0m\u001b[0;32m      2\u001b[0m        \u001b[1;34m\"GrLivArea\"\u001b[0m\u001b[1;33m:\u001b[0m\u001b[1;33m[\u001b[0m\u001b[0mrequest\u001b[0m\u001b[1;33m.\u001b[0m\u001b[0margs\u001b[0m\u001b[1;33m[\u001b[0m\u001b[1;34m'GrLivArea'\u001b[0m\u001b[1;33m]\u001b[0m\u001b[1;33m]\u001b[0m\u001b[1;33m,\u001b[0m\u001b[1;33m\u001b[0m\u001b[1;33m\u001b[0m\u001b[0m\n\u001b[0;32m      3\u001b[0m        \u001b[1;34m\"YearBuilt\"\u001b[0m\u001b[1;33m:\u001b[0m\u001b[1;33m[\u001b[0m\u001b[0mrequest\u001b[0m\u001b[1;33m.\u001b[0m\u001b[0margs\u001b[0m\u001b[1;33m[\u001b[0m\u001b[1;34m'YearBuilt'\u001b[0m\u001b[1;33m]\u001b[0m\u001b[1;33m]\u001b[0m\u001b[1;33m,\u001b[0m\u001b[1;33m\u001b[0m\u001b[1;33m\u001b[0m\u001b[0m\n\u001b[0;32m      4\u001b[0m        \u001b[1;34m\"GarageArea\"\u001b[0m\u001b[1;33m:\u001b[0m\u001b[1;33m[\u001b[0m\u001b[0mrequest\u001b[0m\u001b[1;33m.\u001b[0m\u001b[0margs\u001b[0m\u001b[1;33m[\u001b[0m\u001b[1;34m'GarageArea'\u001b[0m\u001b[1;33m]\u001b[0m\u001b[1;33m]\u001b[0m\u001b[1;33m,\u001b[0m\u001b[1;33m\u001b[0m\u001b[1;33m\u001b[0m\u001b[0m\n\u001b[0;32m      5\u001b[0m        \u001b[1;34m\"TotalBsmtSF\"\u001b[0m\u001b[1;33m:\u001b[0m\u001b[1;33m[\u001b[0m\u001b[0mrequest\u001b[0m\u001b[1;33m.\u001b[0m\u001b[0margs\u001b[0m\u001b[1;33m[\u001b[0m\u001b[1;34m'TotalBsmtSF'\u001b[0m\u001b[1;33m]\u001b[0m\u001b[1;33m]\u001b[0m\u001b[1;33m,\u001b[0m\u001b[1;33m\u001b[0m\u001b[1;33m\u001b[0m\u001b[0m\n",
      "\u001b[1;31mNameError\u001b[0m: name 'request' is not defined"
     ]
    }
   ],
   "source": [
    " DATA={\"OverallQual\":[request.args['OverallQual']],\n",
    "        \"GrLivArea\":[request.args['GrLivArea']], \n",
    "        \"YearBuilt\":[request.args['YearBuilt']], \n",
    "        \"GarageArea\":[request.args['GarageArea']], \n",
    "        \"TotalBsmtSF\":[request.args['TotalBsmtSF']], \n",
    "        \"GarageCars\":[request.args['GarageCars']], \n",
    "        \"FirstFlrSF\":[request.args['FirstFlrSF']], \n",
    "        \"BsmtQual\":[request.args['BsmtQual']], \n",
    "        \"KitchenQual\":[request.args['KitchenQual']], \n",
    "        \"ExterQual\":[request.args['ExterQual']], \n",
    "        \"YearRemodAdd\":[request.args['YearRemodAdd']], \n",
    "        \"MSSubClass\":[request.args['MSSubClass']], \n",
    "        \"GarageFinish\":[request.args['GarageFinish']], \n",
    "        \"FullBath\":[request.args['FullBath']], \n",
    "        \"Foundation\":[request.args['Foundation']], \n",
    "        \"LotFrontage\":[request.args['LotFrontage']], \n",
    "        \"GarageType\":[request.args['GarageType']], \n",
    "        \"Fire0placeQu\":[request.args['FireplaceQu']], \n",
    "        \"SecondFlrSF\":[request.args['SecondFlrSF']]\n",
    "\n",
    "        }"
   ]
  },
  {
   "cell_type": "code",
   "execution_count": 2,
   "id": "821317b3",
   "metadata": {},
   "outputs": [],
   "source": [
    "dic={\"o\":22,\"opa\":5}"
   ]
  },
  {
   "cell_type": "code",
   "execution_count": 15,
   "id": "53150df8",
   "metadata": {},
   "outputs": [
    {
     "data": {
      "text/plain": [
       "dict_keys(['o', 'opa'])"
      ]
     },
     "execution_count": 15,
     "metadata": {},
     "output_type": "execute_result"
    }
   ],
   "source": [
    "dic.keys()"
   ]
  },
  {
   "cell_type": "code",
   "execution_count": 1,
   "id": "af2f37ef",
   "metadata": {},
   "outputs": [],
   "source": [
    "import pandas as pd \n"
   ]
  },
  {
   "cell_type": "code",
   "execution_count": 2,
   "id": "51af06b5",
   "metadata": {},
   "outputs": [],
   "source": [
    "df=pd.read_csv(\"description/ames.csv\")"
   ]
  },
  {
   "cell_type": "code",
   "execution_count": 3,
   "id": "a1573c06",
   "metadata": {},
   "outputs": [
    {
     "data": {
      "text/plain": [
       "(2930, 79)"
      ]
     },
     "execution_count": 3,
     "metadata": {},
     "output_type": "execute_result"
    }
   ],
   "source": [
    "df.shape"
   ]
  },
  {
   "cell_type": "code",
   "execution_count": null,
   "id": "1b083c08",
   "metadata": {},
   "outputs": [],
   "source": []
  }
 ],
 "metadata": {
  "kernelspec": {
   "display_name": "Python 3 (ipykernel)",
   "language": "python",
   "name": "python3"
  },
  "language_info": {
   "codemirror_mode": {
    "name": "ipython",
    "version": 3
   },
   "file_extension": ".py",
   "mimetype": "text/x-python",
   "name": "python",
   "nbconvert_exporter": "python",
   "pygments_lexer": "ipython3",
   "version": "3.7.6"
  }
 },
 "nbformat": 4,
 "nbformat_minor": 5
}
